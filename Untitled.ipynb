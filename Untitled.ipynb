{
 "cells": [
  {
   "cell_type": "code",
   "execution_count": null,
   "metadata": {},
   "outputs": [],
   "source": [
    "import pygame\n",
    "from pygame.draw import *\n",
    "\n",
    "pygame.init()\n",
    "\n",
    "FPS = 30\n",
    "s = pygame.display.set_mode((400, 400))\n",
    "s.fill((255,255,255))\n",
    "circle(s, (255,255,0), (200, 200), 100)\n",
    "circle(s, (255,0,0), (150, 180), 20)\n",
    "circle(s, (0,0,0), (150, 180), 10)\n",
    "circle(s, (255,0,0), (250, 180), 20)\n",
    "circle(s, (0,0,0), (250, 180), 10)\n",
    "rect(s, (100,0,0), (150, 250, 100, 20))\n",
    "line(s, (0,0,0), (100,120),(180,170), 10)\n",
    "line(s, (0,0,0), (220,170),(300,140), 10)\n",
    "\n",
    "pygame.display.update()\n",
    "clock = pygame.time.Clock()\n",
    "finished = False\n",
    "\n",
    "while not finished:\n",
    "    clock.tick(FPS)\n",
    "    for event in pygame.event.get():\n",
    "        if event.type == pygame.QUIT:\n",
    "            finished = True\n",
    "\n",
    "pygame.quit()"
   ]
  },
  {
   "cell_type": "code",
   "execution_count": null,
   "metadata": {},
   "outputs": [],
   "source": []
  },
  {
   "cell_type": "code",
   "execution_count": null,
   "metadata": {},
   "outputs": [],
   "source": []
  }
 ],
 "metadata": {
  "kernelspec": {
   "display_name": "Python 3",
   "language": "python",
   "name": "python3"
  },
  "language_info": {
   "codemirror_mode": {
    "name": "ipython",
    "version": 3
   },
   "file_extension": ".py",
   "mimetype": "text/x-python",
   "name": "python",
   "nbconvert_exporter": "python",
   "pygments_lexer": "ipython3",
   "version": "3.8.3"
  }
 },
 "nbformat": 4,
 "nbformat_minor": 4
}
